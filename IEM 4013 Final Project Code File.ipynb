{
 "cells": [
  {
   "cell_type": "code",
   "execution_count": 16,
   "metadata": {},
   "outputs": [],
   "source": [
    "from gerrychain import Graph"
   ]
  },
  {
   "cell_type": "code",
   "execution_count": 17,
   "metadata": {},
   "outputs": [],
   "source": [
    "# Read New Mexico county graph from 'COUNTY_35.json'\n",
    "filename = 'COUNTY_35.json'\n",
    "\n",
    "# Use built-in GerryChain function to read graph\n",
    "G = Graph.from_json(filename )"
   ]
  },
  {
   "cell_type": "code",
   "execution_count": 18,
   "metadata": {},
   "outputs": [
    {
     "name": "stdout",
     "output_type": "stream",
     "text": [
      "Using L = 682962 and U = 689824 and k = 3\n"
     ]
    }
   ],
   "source": [
    "# Impose a 1% population deviation (+/- 0.5%)\n",
    "deviation = 0.01\n",
    "\n",
    "import math\n",
    "k = 3          # number of districts\n",
    "total_population = sum(G.nodes[node]['TOTPOP'] for node in G.nodes)\n",
    "\n",
    "L = math.ceil((1-deviation/2)*total_population/k)\n",
    "U = math.floor((1+deviation/2)*total_population/k)\n",
    "print(\"Using L =\",L,\"and U =\",U,\"and k =\",k)"
   ]
  },
  {
   "cell_type": "code",
   "execution_count": 19,
   "metadata": {},
   "outputs": [],
   "source": [
    "import gurobipy as gp\n",
    "from gurobipy import GRB\n",
    "\n",
    "# create model \n",
    "m = gp.Model()\n",
    "\n",
    "# set variables\n",
    "x = m.addVars(G.nodes, k, vtype=GRB.BINARY) # x[i,j] equals one when county i is assigned to district j\n",
    "y = m.addVars(G.edges, vtype=GRB.BINARY)  # y[u,v] equals one when edge {u,v} is cut"
   ]
  },
  {
   "cell_type": "code",
   "execution_count": 20,
   "metadata": {},
   "outputs": [],
   "source": [
    "# objective is to minimize cut edges\n",
    "m.setObjective( gp.quicksum( y[u,v] for u,v in G.edges ), GRB.MINIMIZE )"
   ]
  },
  {
   "cell_type": "code",
   "execution_count": 21,
   "metadata": {},
   "outputs": [],
   "source": [
    "# add constraint: each county i is assigned to one district\n",
    "m.addConstrs( gp.quicksum(x[i,j] for j in range(k)) == 1 for i in G.nodes)\n",
    "\n",
    "# add constraint: each district has population at least L and at most U\n",
    "m.addConstrs( gp.quicksum( G.nodes[i]['TOTPOP'] * x[i,j] for i in G.nodes) >= L for j in range(k) )\n",
    "m.addConstrs( gp.quicksum( G.nodes[i]['TOTPOP'] * x[i,j] for i in G.nodes) <= U for j in range(k) )\n",
    "\n",
    "# add constraint: edge {i,j} is cut if i is assigned to district v but j is not.\n",
    "m.addConstrs( x[i,v] - x[j,v] <= y[i,j] for i,j in G.edges for v in range(k))\n",
    "\n",
    "m.update()"
   ]
  },
  {
   "cell_type": "code",
   "execution_count": 22,
   "metadata": {},
   "outputs": [],
   "source": [
    "# Add contiguity constraints and re-solve the model.\n",
    "# Using the contiguity constraints of Hojny et al. (MPC, 2021)\n",
    "#   https://link.springer.com/article/10.1007/s12532-020-00186-3\n",
    "\n",
    "# Add root variables: r[i,j] equals 1 if node i is the \"root\" of district j\n",
    "r = m.addVars(G.nodes, k, vtype=GRB.BINARY)\n",
    "\n",
    "# Add flow variables: f[u,v] = amount of flow sent across arc uv \n",
    "#  Flows are sent across arcs of the directed version of G which we call DG\n",
    "import networkx as nx\n",
    "DG = nx.DiGraph(G) # directed version of G\n",
    "f = m.addVars(DG.edges, vtype=GRB.CONTINUOUS)"
   ]
  },
  {
   "cell_type": "code",
   "execution_count": 23,
   "metadata": {},
   "outputs": [],
   "source": [
    "# The big-M proposed by Hojny et al.\n",
    "M = G.number_of_nodes() - k + 1\n",
    "\n",
    "# Each district j should have one root\n",
    "m.addConstrs( gp.quicksum( r[i,j] for i in DG.nodes) == 1 for j in range(k) )\n",
    "\n",
    "# If node i is not assigned to district j, then it cannot be its root\n",
    "m.addConstrs( r[i,j] <= x[i,j] for i in DG.nodes for j in range(k) )  \n",
    "\n",
    "# if not a root, consume some flow.\n",
    "# if a root, only send out (so much) flow.\n",
    "m.addConstrs( gp.quicksum( f[u,v] - f[v,u] for u in DG.neighbors(v) ) >= 1 - M * gp.quicksum( r[v,j] for j in range(k)) for v in G.nodes)\n",
    "\n",
    "# do not send flow across cut edges\n",
    "m.addConstrs( f[i,j] + f[j,i] <= M * (1 - y[i,j]) for (i,j) in G.edges )\n",
    "\n",
    "m.update()"
   ]
  },
  {
   "cell_type": "code",
   "execution_count": 24,
   "metadata": {},
   "outputs": [
    {
     "name": "stdout",
     "output_type": "stream",
     "text": [
      "Gurobi Optimizer version 9.1.1 build v9.1.1rc0 (win64)\n",
      "Thread count: 6 physical cores, 12 logical processors, using up to 12 threads\n",
      "Optimize a model with 486 rows, 432 columns and 1941 nonzeros\n",
      "Model fingerprint: 0x555f929d\n",
      "Variable types: 156 continuous, 276 integer (276 binary)\n",
      "Coefficient statistics:\n",
      "  Matrix range     [1e+00, 7e+05]\n",
      "  Objective range  [1e+00, 1e+00]\n",
      "  Bounds range     [1e+00, 1e+00]\n",
      "  RHS range        [1e+00, 7e+05]\n",
      "Presolve time: 0.01s\n",
      "Presolved: 486 rows, 432 columns, 1932 nonzeros\n",
      "Variable types: 156 continuous, 276 integer (276 binary)\n",
      "\n",
      "Root relaxation: objective 2.000000e+00, 166 iterations, 0.00 seconds\n",
      "\n",
      "    Nodes    |    Current Node    |     Objective Bounds      |     Work\n",
      " Expl Unexpl |  Obj  Depth IntInf | Incumbent    BestBd   Gap | It/Node Time\n",
      "\n",
      "     0     0    3.00000    0  110          -    3.00000      -     -    0s\n",
      "     0     0    3.79118    0  113          -    3.79118      -     -    0s\n",
      "     0     0    6.71894    0  125          -    6.71894      -     -    0s\n",
      "     0     0    6.72065    0  128          -    6.72065      -     -    0s\n",
      "     0     0    7.10038    0  118          -    7.10038      -     -    0s\n",
      "     0     0    7.13965    0  118          -    7.13965      -     -    0s\n",
      "     0     0    7.14493    0  116          -    7.14493      -     -    0s\n",
      "     0     0    7.14781    0  116          -    7.14781      -     -    0s\n",
      "     0     0    7.14781    0  116          -    7.14781      -     -    0s\n",
      "     0     0    7.14905    0  116          -    7.14905      -     -    0s\n",
      "     0     0    7.14905    0  116          -    7.14905      -     -    0s\n",
      "     0     2    7.14905    0  116          -    7.14905      -     -    0s\n",
      "* 1719  1007              35      17.0000000   15.05598  11.4%   9.4    2s\n",
      "\n",
      "Cutting planes:\n",
      "  Gomory: 19\n",
      "  MIR: 1\n",
      "  Flow cover: 7\n",
      "  RLT: 4\n",
      "\n",
      "Explored 1888 nodes (54746 simplex iterations) in 2.62 seconds\n",
      "Thread count was 12 (of 12 available processors)\n",
      "\n",
      "Solution count 1: 17 \n",
      "\n",
      "Optimal solution found (tolerance 1.00e-04)\n",
      "Best objective 1.700000000000e+01, best bound 1.700000000000e+01, gap 0.0000%\n"
     ]
    }
   ],
   "source": [
    "# solve IP model\n",
    "m.optimize()"
   ]
  },
  {
   "cell_type": "code",
   "execution_count": 11,
   "metadata": {},
   "outputs": [
    {
     "name": "stdout",
     "output_type": "stream",
     "text": [
      "The number of cut edges is 17.0\n",
      "District 0 has population 683772 and contains counties ['Harding', 'Guadalupe', 'San Juan', 'Curry', 'Taos', 'Quay', 'Colfax', 'Los Alamos', 'Rio Arriba', 'San Miguel', 'Sandoval', 'Santa Fe', 'McKinley', 'Mora', 'Union']\n",
      "District 1 has population 685630 and contains counties ['Sierra', 'Lea', 'Torrance', 'Grant', 'Otero', 'Roosevelt', 'Hidalgo', 'Eddy', 'De Baca', 'Doña Ana', 'Chaves', 'Valencia', 'Catron', 'Socorro', 'Lincoln', 'Luna']\n",
      "District 2 has population 689777 and contains counties ['Cibola', 'Bernalillo']\n"
     ]
    }
   ],
   "source": [
    "print(\"The number of cut edges is\",m.objval)\n",
    "\n",
    "# retrieve the districts and their populations\n",
    "districts = [ [i for i in G.nodes if x[i,j].x > 0.5] for j in range(k)]\n",
    "district_counties = [ [ G.nodes[i][\"NAME10\"] for i in districts[j] ] for j in range(k)]\n",
    "district_populations = [ sum(G.nodes[i][\"TOTPOP\"] for i in districts[j]) for j in range(k) ]\n",
    "\n",
    "# print district info\n",
    "for j in range(k):\n",
    "    print(\"District\",j,\"has population\",district_populations[j],\"and contains counties\",district_counties[j])"
   ]
  },
  {
   "cell_type": "code",
   "execution_count": 12,
   "metadata": {},
   "outputs": [],
   "source": [
    "# Draw it on a map\n",
    "import geopandas as gpd"
   ]
  },
  {
   "cell_type": "code",
   "execution_count": 13,
   "metadata": {},
   "outputs": [],
   "source": [
    "# Read New Mexico county shapefile from \"NM_counties.shp\"\n",
    "filename = 'NM_counties.shp'\n",
    "\n",
    "# Read geopandas dataframe from file\n",
    "df = gpd.read_file(filename )"
   ]
  },
  {
   "cell_type": "code",
   "execution_count": 14,
   "metadata": {},
   "outputs": [
    {
     "data": {
      "image/png": "[encoded data removed]",
      "text/plain": [
       "<Figure size 432x288 with 1 Axes>"
      ]
     },
     "metadata": {
      "needs_background": "light"
     },
     "output_type": "display_data"
    }
   ],
   "source": [
    "# Assign each county to a district\n",
    "assignment = [ -1 for u in G.nodes ]\n",
    "    \n",
    "# for each district j\n",
    "for j in range(k):\n",
    "    \n",
    "    # for each node i in this district\n",
    "    for i in districts[j]:\n",
    "        \n",
    "        # determine its GEOID\n",
    "        geoID = G.nodes[i][\"GEOID10\"]\n",
    "        \n",
    "        # Need to find this GEOID in the dataframe\n",
    "        for u in G.nodes:\n",
    "            if geoID == df['GEOID10'][u]: # Found it\n",
    "                assignment[u] = j # Node u from the dataframe should be assigned to district j\n",
    "\n",
    "# Add the assignments to a column of the dataframe and map it\n",
    "df['assignment'] = assignment\n",
    "my_fig = df.plot(column='assignment').get_figure()"
   ]
  },
  {
   "cell_type": "code",
   "execution_count": null,
   "metadata": {},
   "outputs": [],
   "source": []
  }
 ],
 "metadata": {
  "kernelspec": {
   "display_name": "Python 3",
   "language": "python",
   "name": "python3"
  },
  "language_info": {
   "codemirror_mode": {
    "name": "ipython",
    "version": 3
   },
   "file_extension": ".py",
   "mimetype": "text/x-python",
   "name": "python",
   "nbconvert_exporter": "python",
   "pygments_lexer": "ipython3",
   "version": "3.8.5"
  }
 },
 "nbformat": 4,
 "nbformat_minor": 4
}
